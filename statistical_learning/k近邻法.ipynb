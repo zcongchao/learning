{
 "cells": [
  {
   "cell_type": "markdown",
   "metadata": {},
   "source": [
    "K近邻法（KNN）是一种基本的分类和回归的方法，KNN的基本思想是给出一定数量带有标签的训练样本，使用这些训练样本将特征空间划分成许多的子空间，当一个新的测试样本进来以后，这个测试样本一定会落在一个超矩形区域内部，然后找到距离这个测试样本最近的K个训练样本，用这些训练样本的标签去投票，票数最多的类别就是这个测试样本的类别。\n"
   ]
  },
  {
   "cell_type": "markdown",
   "metadata": {},
   "source": [
    "KNN的三个要素：    \n",
    "\n",
    "K值选择，距离度量，分类决策规则。"
   ]
  },
  {
   "cell_type": "code",
   "execution_count": null,
   "metadata": {},
   "outputs": [],
   "source": []
  }
 ],
 "metadata": {
  "kernelspec": {
   "display_name": "Python 3",
   "language": "python",
   "name": "python3"
  },
  "language_info": {
   "codemirror_mode": {
    "name": "ipython",
    "version": 3
   },
   "file_extension": ".py",
   "mimetype": "text/x-python",
   "name": "python",
   "nbconvert_exporter": "python",
   "pygments_lexer": "ipython3",
   "version": "3.6.4"
  }
 },
 "nbformat": 4,
 "nbformat_minor": 2
}
