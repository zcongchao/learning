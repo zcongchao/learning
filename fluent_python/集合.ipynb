{
 "cells": [
  {
   "cell_type": "markdown",
   "metadata": {},
   "source": [
    "集合的本质是许多唯一对象的聚集。因此，集合可以用于去重"
   ]
  },
  {
   "cell_type": "code",
   "execution_count": 2,
   "metadata": {
    "collapsed": false
   },
   "outputs": [
    {
     "data": {
      "text/plain": [
       "['spam', 'eggs']"
      ]
     },
     "execution_count": 2,
     "metadata": {},
     "output_type": "execute_result"
    }
   ],
   "source": [
    "l = ['spam', 'spam', 'eggs', 'spam']\n",
    "list(set(l))"
   ]
  },
  {
   "cell_type": "markdown",
   "metadata": {},
   "source": [
    "集合中的元素必须是可散列的，set 类型本身是不可散列的，但是\n",
    "frozenset 可以。因此可以创建一个包含不同 frozenset 的 set。\n",
    "除了保证唯一性，集合还实现了很多基础的中缀运算符。给定两个集合\n",
    "a 和 b，a | b 返回的是它们的合集，a & b 得到的是交集，而 a - b\n",
    "得到的是差集。合理地利用这些操作，不仅能够让代码的行数变少，还\n",
    "能减少 Python 程序的运行时间。这样做同时也是为了让代码更易读，从\n",
    "而更容易判断程序的正确性，因为利用这些运算符可以省去不必要的循\n",
    "环和逻辑操作。\n",
    "例如，我们有一个电子邮件地址的集合（haystack），还要维护一个\n",
    "较小的电子邮件地址集合（needles），然后求出 needles 中有多少地\n",
    "址同时也出现在了 heystack 里。借助集合操作，我们只需要一行代码\n",
    "就可以了"
   ]
  },
  {
   "cell_type": "code",
   "execution_count": null,
   "metadata": {
    "collapsed": true
   },
   "outputs": [],
   "source": [
    "found = len(needles & haystack)"
   ]
  },
  {
   "cell_type": "markdown",
   "metadata": {},
   "source": [
    "### 集合字面量\n",
    "除空集之外，集合的字面量——{1}、{1, 2}，等等——看起来跟它的\n",
    "数学形式一模一样。如果是空集，那么必须写成 set() 的形式\n",
    "像 {1, 2, 3} 这种字面量句法相比于构造方法（set([1, 2, 3])）要\n",
    "更快且更易读。后者的速度要慢一些，因为 Python 必须先从 set 这个\n",
    "名字来查询构造方法，然后新建一个列表，最后再把这个列表传入到构\n",
    "造方法里。但是如果是像 {1, 2, 3} 这样的字面量，Python 会利用一\n",
    "个专门的叫作 BUILD_SET 的字节码来创建集合"
   ]
  },
  {
   "cell_type": "markdown",
   "metadata": {},
   "source": [
    "用 dis.dis（反汇编函数）来看看两个方法的字节码的不同"
   ]
  },
  {
   "cell_type": "code",
   "execution_count": 3,
   "metadata": {
    "collapsed": false
   },
   "outputs": [
    {
     "name": "stdout",
     "output_type": "stream",
     "text": [
      "  1           0 LOAD_CONST               0 (1)\n",
      "              3 BUILD_SET                1\n",
      "              6 RETURN_VALUE\n"
     ]
    }
   ],
   "source": [
    "from dis import dis\n",
    "dis('{1}')"
   ]
  },
  {
   "cell_type": "code",
   "execution_count": 4,
   "metadata": {
    "collapsed": false
   },
   "outputs": [
    {
     "name": "stdout",
     "output_type": "stream",
     "text": [
      "  1           0 LOAD_NAME                0 (set)\n",
      "              3 LOAD_CONST               0 (1)\n",
      "              6 BUILD_LIST               1\n",
      "              9 CALL_FUNCTION            1 (1 positional, 0 keyword pair)\n",
      "             12 RETURN_VALUE\n"
     ]
    }
   ],
   "source": [
    "dis('set([1])')"
   ]
  },
  {
   "cell_type": "markdown",
   "metadata": {},
   "source": [
    "➊ 检查 {1} 字面量背后的字节码。  \n",
    "➋ 特殊的字节码 BUILD_SET 几乎完成了所有的工作。  \n",
    "➌ set([1]) 的字节码。  \n",
    "➍ 3 种不同的操作代替了上面的  \n",
    "BUILD_SET：LOAD_NAME、BUILD_LIST 和 CALL_FUNCTION。  "
   ]
  },
  {
   "cell_type": "markdown",
   "metadata": {},
   "source": [
    "### dict和set的背后"
   ]
  },
  {
   "cell_type": "code",
   "execution_count": null,
   "metadata": {
    "collapsed": true
   },
   "outputs": [],
   "source": []
  }
 ],
 "metadata": {
  "anaconda-cloud": {},
  "kernelspec": {
   "display_name": "Python [default]",
   "language": "python",
   "name": "python3"
  },
  "language_info": {
   "codemirror_mode": {
    "name": "ipython",
    "version": 3
   },
   "file_extension": ".py",
   "mimetype": "text/x-python",
   "name": "python",
   "nbconvert_exporter": "python",
   "pygments_lexer": "ipython3",
   "version": "3.5.2"
  }
 },
 "nbformat": 4,
 "nbformat_minor": 1
}
