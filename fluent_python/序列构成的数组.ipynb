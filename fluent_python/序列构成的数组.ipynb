{
 "cells": [
  {
   "cell_type": "markdown",
   "metadata": {},
   "source": [
    "显示了可变序列（MutableSequence） 和不可变序列\n",
    "（Sequence） 的差异， 同时也能看出前者从后者那里继承了一些方\n",
    "法。 虽然内置的序列类型并不是直接从 Sequence 和\n",
    "MutableSequence 这两个抽象基类（Abstract Base Class， ABC） 继承\n",
    "而来的， 但是了解这些基类可以帮助我们总结出那些完整的序列类型包\n",
    "含了哪些功能"
   ]
  },
  {
   "cell_type": "markdown",
   "metadata": {},
   "source": [
    "<img src=\"img/MutableSequence.png\">"
   ]
  },
  {
   "cell_type": "markdown",
   "metadata": {},
   "source": [
    "通过记住这些类的共有特性， 把可变与不可变序列或是容器与扁平序列\n",
    "的概念融会贯通， 在探索并学习新的序列类型时， 你会更加得心应手"
   ]
  },
  {
   "cell_type": "markdown",
   "metadata": {},
   "source": [
    "列表推导也可能被滥用。 以前看到过有的 Python 代码用列表\n",
    "推导来重复获取一个函数的副作用。 通常的原则是， 只用列表推导来创\n",
    "建新的列表， 并且尽量保持简短。 如果列表推导的代码超过了两行， 你\n",
    "可能就要考虑是不是得用 for 循环重写了。 就跟写文章一样， 并没有什\n",
    "么硬性的规则， 这个度得你自己把握。"
   ]
  },
  {
   "cell_type": "markdown",
   "metadata": {},
   "source": [
    "Python 会忽略代码里 []、 {} 和 () 中的换行， 因此如果你的代码里\n",
    "有多行的列表、 列表推导、 生成器表达式、 字典这一类的， 可以省\n",
    "略不太好看的续行符 \\。"
   ]
  },
  {
   "cell_type": "markdown",
   "metadata": {},
   "source": [
    "Python 2.x 中， 在列表推导中 for 关键词之后的赋值操作可能会影\n",
    "响列表推导上下文中的同名变量。 像下面这个 Python 2.7 控制台对\n",
    "话："
   ]
  },
  {
   "cell_type": "markdown",
   "metadata": {},
   "source": [
    "<img src=\"img/python2.png\">"
   ]
  },
  {
   "cell_type": "markdown",
   "metadata": {},
   "source": [
    "如你所见， x 原本的值被取代了， 但是这种情况在 Python 3 中是不\n",
    "会出现的。列表推导、 生成器表达式， 以及同它们很相似的集合（set） 推导\n",
    "和字典（dict） 推导， 在 Python 3 中都有了自己的局部作用域， 就\n",
    "像函数似的。 表达式内部的变量和赋值只在局部起作用， 表达式的\n",
    "上下文里的同名变量还可以被正常引用， 局部变量并不会影响到它\n",
    "们。"
   ]
  },
  {
   "cell_type": "code",
   "execution_count": 3,
   "metadata": {},
   "outputs": [
    {
     "data": {
      "text/plain": [
       "'ABC'"
      ]
     },
     "execution_count": 3,
     "metadata": {},
     "output_type": "execute_result"
    }
   ],
   "source": [
    "x = 'ABC'\n",
    "dummy = [ord(x) for x in x]\n",
    "x"
   ]
  },
  {
   "cell_type": "markdown",
   "metadata": {},
   "source": [
    "用列表推导和 map/filter 组合来创建同样的表单"
   ]
  },
  {
   "cell_type": "code",
   "execution_count": 4,
   "metadata": {},
   "outputs": [
    {
     "data": {
      "text/plain": [
       "[162, 163, 165, 8364, 164]"
      ]
     },
     "execution_count": 4,
     "metadata": {},
     "output_type": "execute_result"
    }
   ],
   "source": [
    "symbols = '$¢£¥€¤'\n",
    "beyond_ascii = [ord(s) for s in symbols if ord(s) > 127]\n",
    "beyond_ascii"
   ]
  },
  {
   "cell_type": "code",
   "execution_count": 5,
   "metadata": {},
   "outputs": [
    {
     "data": {
      "text/plain": [
       "[162, 163, 165, 8364, 164]"
      ]
     },
     "execution_count": 5,
     "metadata": {},
     "output_type": "execute_result"
    }
   ],
   "source": [
    "beyond_ascii = list(filter(lambda c: c > 127, map(ord, symbols)))\n",
    "beyond_ascii"
   ]
  },
  {
   "cell_type": "markdown",
   "metadata": {},
   "source": [
    "我原以为 map/filter 组合起来用要比列表推导快一些， Alex Martelli\n",
    "却说不一定——至少在上面这个例子中不一定。 在本书的代码仓库\n",
    "（https://github.com/fluentpython/example-code） 中有名为 02-arrayseq/listcomp_speed.py（https://github.com/fluentpython/examplecode/blob/master/02-array-seq/listcomp_speed.py） 的脚本， 代码中有这两\n",
    "个方法的效率的比较。"
   ]
  },
  {
   "cell_type": "markdown",
   "metadata": {},
   "source": [
    "### 元组不仅仅是不可变的列表"
   ]
  },
  {
   "cell_type": "markdown",
   "metadata": {},
   "source": [
    "有些 Python 入门教程把元组称为“不可变列表”， 然而这并没有完全概括\n",
    "元组的特点。 除了用作不可变的列表， 它还可以用于没有字段名的记\n",
    "录。 鉴于后者常常被忽略， 我们先来看看元组作为记录的功用。"
   ]
  },
  {
   "cell_type": "markdown",
   "metadata": {},
   "source": [
    "元组其实是对数据的记录： 元组中的每个元素都存放了记录中一个字段\n",
    "的数据， 外加这个字段的位置。 正是这个位置信息给数据赋予了意义。\n",
    "如果只把元组理解为不可变的列表， 那其他信息——它所含有的元素的\n",
    "总数和它们的位置——似乎就变得可有可无。 但是如果把元组当作一些\n",
    "字段的集合， 那么数量和位置信息就变得非常重要了。\n",
    "元组就被当作记录加以利用。 如果在任何的表达式里我们\n",
    "在元组内对元素排序， 这些元素所携带的信息就会丢失， 因为这些信息\n",
    "是跟它们的位置有关的。"
   ]
  },
  {
   "cell_type": "code",
   "execution_count": 6,
   "metadata": {},
   "outputs": [],
   "source": [
    "lax_coordinates = (33.9425, -118.408056)\n",
    "city, year, pop, chg, area = ('Tokyo', 2003, 32450, 0.66, 8014)\n",
    "traveler_ids = [('USA', '31195855'), ('BRA', 'CE342567'),('ESP', 'XDA205856')]"
   ]
  },
  {
   "cell_type": "code",
   "execution_count": 9,
   "metadata": {},
   "outputs": [
    {
     "name": "stdout",
     "output_type": "stream",
     "text": [
      "BRA/CE342567\n",
      "ESP/XDA205856\n",
      "USA/31195855\n"
     ]
    }
   ],
   "source": [
    "for passport in sorted(traveler_ids):\n",
    "    print('%s/%s' % passport)"
   ]
  },
  {
   "cell_type": "markdown",
   "metadata": {},
   "source": [
    "展示了如何用具名元组来记录一个城市的信息。"
   ]
  },
  {
   "cell_type": "code",
   "execution_count": 10,
   "metadata": {},
   "outputs": [
    {
     "data": {
      "text/plain": [
       "City(name='Tokyo', country='JP', population=36.933, coordinates=(35.689722, 139.691667))"
      ]
     },
     "execution_count": 10,
     "metadata": {},
     "output_type": "execute_result"
    }
   ],
   "source": [
    "from collections import namedtuple\n",
    "City = namedtuple('City', 'name country population coordinates')\n",
    "tokyo = City('Tokyo', 'JP', 36.933, (35.689722, 139.691667))\n",
    "tokyo"
   ]
  },
  {
   "cell_type": "markdown",
   "metadata": {},
   "source": [
    "除了从普通元组那里继承来的属性之外， 具名元组还有一些自己专有的\n",
    "属性。 示例 2-10 中就展示了几个最有用的： _fields 类属性、 类方法\n",
    "_make(iterable) 和实例方法 _asdict()。"
   ]
  },
  {
   "cell_type": "code",
   "execution_count": 11,
   "metadata": {},
   "outputs": [
    {
     "data": {
      "text/plain": [
       "('name', 'country', 'population', 'coordinates')"
      ]
     },
     "execution_count": 11,
     "metadata": {},
     "output_type": "execute_result"
    }
   ],
   "source": [
    "City._fields"
   ]
  },
  {
   "cell_type": "code",
   "execution_count": 12,
   "metadata": {},
   "outputs": [],
   "source": [
    "LatLong = namedtuple('LatLong', 'lat long')"
   ]
  },
  {
   "cell_type": "code",
   "execution_count": 13,
   "metadata": {},
   "outputs": [],
   "source": [
    "delhi_data = ('Delhi NCR', 'IN', 21.935, LatLong(28.613889, 77.208889))"
   ]
  },
  {
   "cell_type": "code",
   "execution_count": 14,
   "metadata": {},
   "outputs": [],
   "source": [
    "delhi = City._make(delhi_data)"
   ]
  },
  {
   "cell_type": "code",
   "execution_count": 15,
   "metadata": {},
   "outputs": [
    {
     "data": {
      "text/plain": [
       "OrderedDict([('name', 'Delhi NCR'),\n",
       "             ('country', 'IN'),\n",
       "             ('population', 21.935),\n",
       "             ('coordinates', LatLong(lat=28.613889, long=77.208889))])"
      ]
     },
     "execution_count": 15,
     "metadata": {},
     "output_type": "execute_result"
    }
   ],
   "source": [
    "delhi._asdict()"
   ]
  },
  {
   "cell_type": "markdown",
   "metadata": {},
   "source": [
    "### 切片"
   ]
  },
  {
   "cell_type": "markdown",
   "metadata": {},
   "source": [
    "在 Python 里， 像列表（list） 、 元组（tuple） 和字符串（str） 这类\n",
    "序列类型都支持切片操作， 但是实际上切片操作比人们所想象的要强大\n",
    "很多。"
   ]
  },
  {
   "cell_type": "code",
   "execution_count": 2,
   "metadata": {},
   "outputs": [
    {
     "data": {
      "text/plain": [
       "[[1, 2], [1, 2], [1, 2]]"
      ]
     },
     "execution_count": 2,
     "metadata": {},
     "output_type": "execute_result"
    }
   ],
   "source": [
    "my_list = [[1,2]] * 3\n",
    "my_list"
   ]
  },
  {
   "cell_type": "markdown",
   "metadata": {},
   "source": [
    "如果在 a * n 这个语句中， 序列 a 里的元素是对其他可变\n",
    "对象的引用的话， 你就需要格外注意了， 因为这个式子的结果可能\n",
    "会出乎意料。 比如， 你想用 my_list = [[]] * 3 来初始化一个\n",
    "由列表组成的列表， 但是你得到的列表里包含的 3 个元素其实是 3\n",
    "个引用， 而且这 3 个引用指向的都是同一个列表。 这可能不是你想\n",
    "要的效果。"
   ]
  },
  {
   "cell_type": "markdown",
   "metadata": {},
   "source": [
    "含有 3 个指向同一对象的引用的列表是毫无用处的"
   ]
  },
  {
   "cell_type": "code",
   "execution_count": 4,
   "metadata": {},
   "outputs": [
    {
     "data": {
      "text/plain": [
       "[[1, 0], [1, 0], [1, 0]]"
      ]
     },
     "execution_count": 4,
     "metadata": {},
     "output_type": "execute_result"
    }
   ],
   "source": [
    "my_list[1][1] = 0\n",
    "my_list"
   ]
  },
  {
   "cell_type": "markdown",
   "metadata": {},
   "source": [
    "外面的列表其实包含 3 个指向同一个列表的引用。 当我们不做修改\n",
    "的时候， 看起来都还好。\n",
    "一旦我们试图标记第 1 行第 2 列的元素， 就立马暴露了列表内的 3\n",
    "个引用指向同一个对象的事实。"
   ]
  },
  {
   "cell_type": "markdown",
   "metadata": {},
   "source": [
    "有时我们会需要初始化一个嵌套着几个列表的列表， 譬如一个列表可能\n",
    "需要用来存放不同的学生名单， 或者是一个井字游戏板 上的一行方\n",
    "块。 想要达成这些目的， 最好的选择是使用列表推导"
   ]
  },
  {
   "cell_type": "code",
   "execution_count": 6,
   "metadata": {},
   "outputs": [
    {
     "data": {
      "text/plain": [
       "[[1, 2], [1, 2], [1, 2]]"
      ]
     },
     "execution_count": 6,
     "metadata": {},
     "output_type": "execute_result"
    }
   ],
   "source": [
    "my_list1 = [[1,2] for i in range(3)]\n",
    "my_list1"
   ]
  },
  {
   "cell_type": "code",
   "execution_count": 7,
   "metadata": {},
   "outputs": [
    {
     "data": {
      "text/plain": [
       "[[1, 2], [1, 0], [1, 2]]"
      ]
     },
     "execution_count": 7,
     "metadata": {},
     "output_type": "execute_result"
    }
   ],
   "source": [
    "my_list1[1][1] = 0\n",
    "my_list1"
   ]
  },
  {
   "cell_type": "markdown",
   "metadata": {},
   "source": [
    "下面的两个表达式到底\n",
    "会产生什么结果？ "
   ]
  },
  {
   "cell_type": "code",
   "execution_count": 9,
   "metadata": {},
   "outputs": [
    {
     "ename": "TypeError",
     "evalue": "'tuple' object does not support item assignment",
     "output_type": "error",
     "traceback": [
      "\u001b[1;31m---------------------------------------------------------------------------\u001b[0m",
      "\u001b[1;31mTypeError\u001b[0m                                 Traceback (most recent call last)",
      "\u001b[1;32m<ipython-input-9-7e34ecfaaa2f>\u001b[0m in \u001b[0;36m<module>\u001b[1;34m()\u001b[0m\n\u001b[0;32m      1\u001b[0m \u001b[0mt\u001b[0m \u001b[1;33m=\u001b[0m \u001b[1;33m(\u001b[0m\u001b[1;36m1\u001b[0m\u001b[1;33m,\u001b[0m \u001b[1;36m2\u001b[0m\u001b[1;33m,\u001b[0m \u001b[1;33m[\u001b[0m\u001b[1;36m30\u001b[0m\u001b[1;33m,\u001b[0m \u001b[1;36m40\u001b[0m\u001b[1;33m]\u001b[0m\u001b[1;33m)\u001b[0m\u001b[1;33m\u001b[0m\u001b[0m\n\u001b[1;32m----> 2\u001b[1;33m \u001b[0mt\u001b[0m\u001b[1;33m[\u001b[0m\u001b[1;36m2\u001b[0m\u001b[1;33m]\u001b[0m \u001b[1;33m+=\u001b[0m \u001b[1;33m[\u001b[0m\u001b[1;36m50\u001b[0m\u001b[1;33m,\u001b[0m \u001b[1;36m60\u001b[0m\u001b[1;33m]\u001b[0m\u001b[1;33m\u001b[0m\u001b[0m\n\u001b[0m\u001b[0;32m      3\u001b[0m \u001b[0mt\u001b[0m\u001b[1;33m\u001b[0m\u001b[0m\n",
      "\u001b[1;31mTypeError\u001b[0m: 'tuple' object does not support item assignment"
     ]
    }
   ],
   "source": [
    "t = (1, 2, [30, 40])\n",
    "t[2] += [50, 60]"
   ]
  },
  {
   "cell_type": "code",
   "execution_count": 10,
   "metadata": {},
   "outputs": [
    {
     "data": {
      "text/plain": [
       "(1, 2, [30, 40, 50, 60])"
      ]
     },
     "execution_count": 10,
     "metadata": {},
     "output_type": "execute_result"
    }
   ],
   "source": [
    "t"
   ]
  },
  {
   "cell_type": "markdown",
   "metadata": {},
   "source": [
    "Python Tutor（http://www.pythontutor.com） 是一个对 Python 运行原理进行\n",
    "可视化分析的工具。 图 2-3 里是两张截图， 分别代表示例 2-15 中 t 的\n",
    "初始和最终状态。"
   ]
  },
  {
   "cell_type": "markdown",
   "metadata": {},
   "source": [
    "Python Tutor（http://www.pythontutor.com） 是一个对 Python 运行原理进行\n",
    "可视化分析的工具。 图 2-3 里是两张截图， 分别代表示例 2-15 中 t 的\n",
    "初始和最终状态。\n",
    "\n",
    "这其实是个非常罕见的边界情况， 在 15 年的 Python 生涯中， 我还没见\n",
    "过谁在这个地方吃过亏。\n",
    "至此我得到了 3 个教训。\n",
    "不要把可变对象放在元组里面。\n",
    "增量赋值不是一个原子操作。 我们刚才也看到了， 它虽然抛出了异\n",
    "常， 但还是完成了操作。\n",
    "查看 Python 的字节码并不难， 而且它对我们了解代码背后的运行机\n",
    "制很有帮助。\n",
    "在见证了 + 和 * 的微妙之处后， 我们把话题转移到序列类型的另一个重\n",
    "要部分上： 排序"
   ]
  },
  {
   "cell_type": "markdown",
   "metadata": {},
   "source": [
    "### list.sort方法和内置函数sorted"
   ]
  },
  {
   "cell_type": "markdown",
   "metadata": {},
   "source": [
    "list.sort 方法会就地排序列表， 也就是说不会把原列表复制一份。 这\n",
    "也是这个方法的返回值是 None 的原因， 提醒你本方法不会新建一个列\n",
    "表。 在这种情况下返回 None 其实是 Python 的一个惯例： 如果一个函数\n",
    "或者方法对对象进行的是就地改动， 那它就应该返回 None， 好让调用\n",
    "者知道传入的参数发生了变动， 而且并未产生新的对象。 例\n",
    "如， random.shuffle 函数也遵守了这个惯例。"
   ]
  },
  {
   "cell_type": "markdown",
   "metadata": {},
   "source": [
    "与 list.sort 相反的是内置函数 sorted， 它会新建一个列表作为返回\n",
    "值。 这个方法可以接受任何形式的可迭代对象作为参数， 甚至包括不可\n",
    "变序列或生成器（见第 14 章） 。 而不管 sorted 接受的是怎样的参\n",
    "数， 它最后都会返回一个列表"
   ]
  },
  {
   "cell_type": "markdown",
   "metadata": {},
   "source": [
    "不管是 list.sort 方法还是 sorted 函数， 都有两个可选的关键字参\n",
    "数。  \n",
    "reverse  \n",
    "如果被设定为 True， 被排序的序列里的元素会以降序输出（也就\n",
    "是说把最大值当作最小值来排序） 。 这个参数的默认值是 False。  \n",
    "key  \n",
    "一个只有一个参数的函数， 这个函数会被用在序列里的每一个元素  \n",
    "上， 所产生的结果将是排序算法依赖的对比关键字。 比如说， 在对一些\n",
    "字符串排序时， 可以用 key=str.lower 来实现忽略大小写的排序， 或\n",
    "者是用 key=len 进行基于字符串长度的排序。 这个参数的默认值是恒"
   ]
  },
  {
   "cell_type": "code",
   "execution_count": 12,
   "metadata": {},
   "outputs": [
    {
     "data": {
      "text/plain": [
       "['apple', 'banana', 'grape', 'raspberry']"
      ]
     },
     "execution_count": 12,
     "metadata": {},
     "output_type": "execute_result"
    }
   ],
   "source": [
    "fruits = ['grape', 'raspberry', 'apple', 'banana']\n",
    "sorted(fruits)"
   ]
  },
  {
   "cell_type": "code",
   "execution_count": 13,
   "metadata": {},
   "outputs": [
    {
     "data": {
      "text/plain": [
       "['grape', 'apple', 'banana', 'raspberry']"
      ]
     },
     "execution_count": 13,
     "metadata": {},
     "output_type": "execute_result"
    }
   ],
   "source": [
    "sorted(fruits, key=len)"
   ]
  },
  {
   "cell_type": "code",
   "execution_count": 14,
   "metadata": {},
   "outputs": [],
   "source": [
    "fruits.sort()"
   ]
  },
  {
   "cell_type": "code",
   "execution_count": 15,
   "metadata": {},
   "outputs": [
    {
     "data": {
      "text/plain": [
       "['apple', 'banana', 'grape', 'raspberry']"
      ]
     },
     "execution_count": 15,
     "metadata": {},
     "output_type": "execute_result"
    }
   ],
   "source": [
    "fruits"
   ]
  },
  {
   "cell_type": "markdown",
   "metadata": {},
   "source": [
    "### 用bisect来管理已排序的序列"
   ]
  },
  {
   "cell_type": "markdown",
   "metadata": {},
   "source": [
    "bisect 模块包含两个主要函数， bisect 和 insort， 两个函数都利用\n",
    "二分查找算法来在有序序列中查找或插入元素。"
   ]
  },
  {
   "cell_type": "markdown",
   "metadata": {},
   "source": [
    "bisect(haystack, needle) 在 haystack（干草垛） 里搜索\n",
    "needle（针） 的位置， 该位置满足的条件是， 把 needle 插入这个位置\n",
    "之后， haystack 还能保持升序。 也就是在说这个函数返回的位置前面\n",
    "的值， 都小于或等于 needle 的值。 其中 haystack 必须是一个有序的\n",
    "序列。 你可以先用 bisect(haystack, needle) 查找位置 index， 再\n",
    "用 haystack.insert(index, needle) 来插入新值。 但你也可用\n",
    "insort 来一步到位， 并且后者的速度更快一些。"
   ]
  },
  {
   "cell_type": "code",
   "execution_count": 30,
   "metadata": {},
   "outputs": [
    {
     "name": "stdout",
     "output_type": "stream",
     "text": [
      "DEMO: bisect\n",
      "haystack ->  1  4  5  6  8 12 15 20 21 23 23 26 29 30\n",
      "31 @ 14  | | | | | | | | | | | | | |31\n",
      "30 @ 14  | | | | | | | | | | | | | |30\n",
      "29 @ 13  | | | | | | | | | | | | |29\n",
      "23 @ 11  | | | | | | | | | | |23\n",
      "22 @  9  | | | | | | | | |22\n",
      "10 @  5  | | | | |10\n",
      " 8 @  5  | | | | | 8\n",
      " 5 @  3  | | | 5\n",
      " 2 @  1  | 2\n",
      " 1 @  1  | 1\n",
      " 0 @  0  0\n"
     ]
    }
   ],
   "source": [
    "import bisect\n",
    "import sys\n",
    "HAYSTACK = [1, 4, 5, 6, 8, 12, 15, 20, 21, 23, 23, 26, 29, 30]\n",
    "NEEDLES = [0, 1, 2, 5, 8, 10, 22, 23, 29, 30, 31]\n",
    "ROW_FMT = '{0:2d} @ {1:2d} {2}{0:2d}'\n",
    "\n",
    "def demo(bisect_fn):\n",
    "    for needle in reversed(NEEDLES):\n",
    "        position = bisect_fn(HAYSTACK, needle) \n",
    "        offset = position * ' |' \n",
    "        print(ROW_FMT.format(needle, position, offset)) \n",
    "    \n",
    "if sys.argv[-1] == 'left': \n",
    "    bisect_fn = bisect.bisect_left\n",
    "else:\n",
    "    bisect_fn = bisect.bisect\n",
    "print('DEMO:', bisect_fn.__name__) \n",
    "print('haystack ->', ' '.join('%2d' % n for n in HAYSTACK))\n",
    "demo(bisect_fn)    "
   ]
  },
  {
   "cell_type": "markdown",
   "metadata": {},
   "source": [
    "### 根据一个分数， 找到它所对应的成绩"
   ]
  },
  {
   "cell_type": "code",
   "execution_count": 32,
   "metadata": {},
   "outputs": [
    {
     "data": {
      "text/plain": [
       "['F', 'A', 'C', 'C', 'B', 'A', 'A']"
      ]
     },
     "execution_count": 32,
     "metadata": {},
     "output_type": "execute_result"
    }
   ],
   "source": [
    "def grade(score, breakpoints=[60, 70, 80, 90], grades='FDCBA'):\n",
    "    i = bisect.bisect(breakpoints, score)\n",
    "    return grades[i]\n",
    "#小于60，i=0\n",
    "[grade(score) for score in [33, 99, 77, 70, 89, 90, 100]]"
   ]
  },
  {
   "cell_type": "markdown",
   "metadata": {},
   "source": [
    "### 用bisect.insort插入新元素     \n",
    "排序很耗时， 因此在得到一个有序序列之后， 我们最好能够保持它的有\n",
    "序。 bisect.insort 就是为了这个而存在的。\n",
    "insort(seq, item) 把变量 item 插入到序列 seq 中， 并能保持 seq\n",
    "的升序顺序。 详见示例 2-19 和它在图 2-6 里的输出。"
   ]
  },
  {
   "cell_type": "code",
   "execution_count": 37,
   "metadata": {},
   "outputs": [
    {
     "name": "stdout",
     "output_type": "stream",
     "text": [
      "10 -> [10]\n",
      " 0 -> [0, 10]\n",
      " 6 -> [0, 6, 10]\n",
      " 8 -> [0, 6, 8, 10]\n",
      " 7 -> [0, 6, 7, 8, 10]\n",
      " 2 -> [0, 2, 6, 7, 8, 10]\n",
      "10 -> [0, 2, 6, 7, 8, 10, 10]\n"
     ]
    }
   ],
   "source": [
    "import bisect\n",
    "import random\n",
    "SIZE=7\n",
    "\n",
    "random.seed(1729)\n",
    "my_list = []\n",
    "for i in range(SIZE):\n",
    "    new_item = random.randrange(SIZE*2)\n",
    "    bisect.insort(my_list, new_item)\n",
    "    print('%2d ->' % new_item, my_list)"
   ]
  },
  {
   "cell_type": "markdown",
   "metadata": {},
   "source": [
    "### 当列表不是首选时"
   ]
  },
  {
   "cell_type": "markdown",
   "metadata": {},
   "source": [
    "虽然列表既灵活又简单， 但面对各类需求时， 我们可能会有更好的选\n",
    "择。 比如， 要存放 1000 万个浮点数的话， 数组（array） 的效率要高\n",
    "得多， 因为数组在背后存的并不是 float 对象， 而是数字的机器翻\n",
    "译， 也就是字节表述。 这一点就跟 C 语言中的数组一样。 再比如说， 如\n",
    "果需要频繁对序列做先进先出的操作， deque（双端队列） 的速度应该\n",
    "会更快。"
   ]
  },
  {
   "cell_type": "markdown",
   "metadata": {},
   "source": [
    "#### 数组"
   ]
  },
  {
   "cell_type": "markdown",
   "metadata": {},
   "source": [
    "如果我们需要一个只包含数字的列表， 那么 array.array 比 list 更\n",
    "高效。 数组支持所有跟可变序列有关的操作， 包括 .pop、 .insert 和\n",
    ".extend。 另外， 数组还提供从文件读取和存入文件的更快的方法， 如\n",
    ".frombytes 和 .tofile。    \n",
    "Python 数组跟 C 语言数组一样精简。 创建数组需要一个类型码， 这个类\n",
    "型码用来表示在底层的 C 语言应该存放怎样的数据类型。 比如 b 类型码\n",
    "代表的是有符号的字符（signed char） ， 因此 array('b') 创建出的\n",
    "数组就只能存放一个字节大小的整数， 范围从 -128 到 127， 这样在序列\n",
    "很大的时候， 我们能节省很多空间。 而且 Python 不会允许你在数组里存\n",
    "放除指定类型之外的数据。    \n",
    "示例 2-20 展示了从创建一个有 1000 万个随机浮点数的数组开始， 到如\n",
    "何把这个数组存放到文件里， 再到如何从文件读取这个数组。  "
   ]
  },
  {
   "cell_type": "code",
   "execution_count": 38,
   "metadata": {},
   "outputs": [
    {
     "data": {
      "text/plain": [
       "0.5963321947530882"
      ]
     },
     "execution_count": 38,
     "metadata": {},
     "output_type": "execute_result"
    }
   ],
   "source": [
    "from array import array\n",
    "from random import random\n",
    "floats = array('d', (random() for i in range(10**7)))\n",
    "floats[-1]"
   ]
  },
  {
   "cell_type": "markdown",
   "metadata": {},
   "source": [
    "从 Python 3.4 开始， 数组类型不再支持诸如 list.sort() 这种就地\n",
    "排序方法。 要给数组排序的话， 得用 sorted 函数新建一个数组："
   ]
  },
  {
   "cell_type": "markdown",
   "metadata": {},
   "source": [
    "a = array.array(a.typecode, sorted(a))"
   ]
  },
  {
   "cell_type": "markdown",
   "metadata": {},
   "source": [
    "### 内存视图"
   ]
  },
  {
   "cell_type": "markdown",
   "metadata": {},
   "source": [
    "如果你总是跟数组打交道， 却没有听过 memoryview， 那就太遗憾了。\n",
    "下面就来谈谈 memoryview。"
   ]
  },
  {
   "cell_type": "markdown",
   "metadata": {},
   "source": [
    "memoryview 是一个内置类， 它能让用户在不复制内容的情况下操作同\n",
    "一个数组的不同切片。 memoryview 的概念受到了 NumPy 的启发（参见\n",
    "2.9.3 节） 。 Travis Oliphant 是 NumPy 的主要作者， 他在回答“ When\n",
    "should a memoryview be\n",
    "used?”（http://stackoverflow.com/questions/4845418/when-should-amemoryview-be-used/） 这个问题时是这样说的：\n",
    "内存视图其实是泛化和去数学化的 NumPy 数组。 它让你在不需要\n",
    "复制内容的前提下， 在数据结构之间共享内存。 其中数据结构可以\n",
    "是任何形式， 比如 PIL图片、 SQLite 数据库和 NumPy 的数组， 等\n",
    "等。 这个功能在处理大型数据集合的时候非常重要。      \n",
    "memoryview.cast 的概念跟数组模块类似， 能用不同的方式读写同一\n",
    "块内存数据， 而且内容字节不会随意移动。 这听上去又跟 C 语言中类型\n",
    "转换的概念差不多。 memoryview.cast 会把同一块内存里的内容打包成一个全新的 memoryview 对象给你。"
   ]
  },
  {
   "cell_type": "code",
   "execution_count": null,
   "metadata": {},
   "outputs": [],
   "source": []
  }
 ],
 "metadata": {
  "kernelspec": {
   "display_name": "Python 3",
   "language": "python",
   "name": "python3"
  },
  "language_info": {
   "codemirror_mode": {
    "name": "ipython",
    "version": 3
   },
   "file_extension": ".py",
   "mimetype": "text/x-python",
   "name": "python",
   "nbconvert_exporter": "python",
   "pygments_lexer": "ipython3",
   "version": "3.6.4"
  }
 },
 "nbformat": 4,
 "nbformat_minor": 2
}
