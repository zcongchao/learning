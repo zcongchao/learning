{
 "cells": [
  {
   "cell_type": "markdown",
   "metadata": {},
   "source": [
    "显示了可变序列（MutableSequence） 和不可变序列\n",
    "（Sequence） 的差异， 同时也能看出前者从后者那里继承了一些方\n",
    "法。 虽然内置的序列类型并不是直接从 Sequence 和\n",
    "MutableSequence 这两个抽象基类（Abstract Base Class， ABC） 继承\n",
    "而来的， 但是了解这些基类可以帮助我们总结出那些完整的序列类型包\n",
    "含了哪些功能"
   ]
  },
  {
   "cell_type": "markdown",
   "metadata": {},
   "source": [
    "<img src=\"img/MutableSequence.png\">"
   ]
  },
  {
   "cell_type": "markdown",
   "metadata": {},
   "source": [
    "通过记住这些类的共有特性， 把可变与不可变序列或是容器与扁平序列\n",
    "的概念融会贯通， 在探索并学习新的序列类型时， 你会更加得心应手"
   ]
  },
  {
   "cell_type": "markdown",
   "metadata": {},
   "source": [
    "列表推导也可能被滥用。 以前看到过有的 Python 代码用列表\n",
    "推导来重复获取一个函数的副作用。 通常的原则是， 只用列表推导来创\n",
    "建新的列表， 并且尽量保持简短。 如果列表推导的代码超过了两行， 你\n",
    "可能就要考虑是不是得用 for 循环重写了。 就跟写文章一样， 并没有什\n",
    "么硬性的规则， 这个度得你自己把握。"
   ]
  },
  {
   "cell_type": "markdown",
   "metadata": {},
   "source": [
    "Python 会忽略代码里 []、 {} 和 () 中的换行， 因此如果你的代码里\n",
    "有多行的列表、 列表推导、 生成器表达式、 字典这一类的， 可以省\n",
    "略不太好看的续行符 \\。"
   ]
  },
  {
   "cell_type": "markdown",
   "metadata": {},
   "source": [
    "Python 2.x 中， 在列表推导中 for 关键词之后的赋值操作可能会影\n",
    "响列表推导上下文中的同名变量。 像下面这个 Python 2.7 控制台对\n",
    "话："
   ]
  },
  {
   "cell_type": "markdown",
   "metadata": {},
   "source": [
    "<img src=\"img/python2.png\">"
   ]
  },
  {
   "cell_type": "markdown",
   "metadata": {},
   "source": [
    "如你所见， x 原本的值被取代了， 但是这种情况在 Python 3 中是不\n",
    "会出现的。列表推导、 生成器表达式， 以及同它们很相似的集合（set） 推导\n",
    "和字典（dict） 推导， 在 Python 3 中都有了自己的局部作用域， 就\n",
    "像函数似的。 表达式内部的变量和赋值只在局部起作用， 表达式的\n",
    "上下文里的同名变量还可以被正常引用， 局部变量并不会影响到它\n",
    "们。"
   ]
  },
  {
   "cell_type": "code",
   "execution_count": 3,
   "metadata": {},
   "outputs": [
    {
     "data": {
      "text/plain": [
       "'ABC'"
      ]
     },
     "execution_count": 3,
     "metadata": {},
     "output_type": "execute_result"
    }
   ],
   "source": [
    "x = 'ABC'\n",
    "dummy = [ord(x) for x in x]\n",
    "x"
   ]
  },
  {
   "cell_type": "markdown",
   "metadata": {},
   "source": [
    "用列表推导和 map/filter 组合来创建同样的表单"
   ]
  },
  {
   "cell_type": "code",
   "execution_count": 4,
   "metadata": {},
   "outputs": [
    {
     "data": {
      "text/plain": [
       "[162, 163, 165, 8364, 164]"
      ]
     },
     "execution_count": 4,
     "metadata": {},
     "output_type": "execute_result"
    }
   ],
   "source": [
    "symbols = '$¢£¥€¤'\n",
    "beyond_ascii = [ord(s) for s in symbols if ord(s) > 127]\n",
    "beyond_ascii"
   ]
  },
  {
   "cell_type": "code",
   "execution_count": 5,
   "metadata": {},
   "outputs": [
    {
     "data": {
      "text/plain": [
       "[162, 163, 165, 8364, 164]"
      ]
     },
     "execution_count": 5,
     "metadata": {},
     "output_type": "execute_result"
    }
   ],
   "source": [
    "beyond_ascii = list(filter(lambda c: c > 127, map(ord, symbols)))\n",
    "beyond_ascii"
   ]
  },
  {
   "cell_type": "markdown",
   "metadata": {},
   "source": [
    "我原以为 map/filter 组合起来用要比列表推导快一些， Alex Martelli\n",
    "却说不一定——至少在上面这个例子中不一定。 在本书的代码仓库\n",
    "（https://github.com/fluentpython/example-code） 中有名为 02-arrayseq/listcomp_speed.py（https://github.com/fluentpython/examplecode/blob/master/02-array-seq/listcomp_speed.py） 的脚本， 代码中有这两\n",
    "个方法的效率的比较。"
   ]
  },
  {
   "cell_type": "markdown",
   "metadata": {},
   "source": [
    "### 元组不仅仅是不可变的列表"
   ]
  },
  {
   "cell_type": "markdown",
   "metadata": {},
   "source": [
    "有些 Python 入门教程把元组称为“不可变列表”， 然而这并没有完全概括\n",
    "元组的特点。 除了用作不可变的列表， 它还可以用于没有字段名的记\n",
    "录。 鉴于后者常常被忽略， 我们先来看看元组作为记录的功用。"
   ]
  },
  {
   "cell_type": "markdown",
   "metadata": {},
   "source": [
    "元组其实是对数据的记录： 元组中的每个元素都存放了记录中一个字段\n",
    "的数据， 外加这个字段的位置。 正是这个位置信息给数据赋予了意义。\n",
    "如果只把元组理解为不可变的列表， 那其他信息——它所含有的元素的\n",
    "总数和它们的位置——似乎就变得可有可无。 但是如果把元组当作一些\n",
    "字段的集合， 那么数量和位置信息就变得非常重要了。\n",
    "元组就被当作记录加以利用。 如果在任何的表达式里我们\n",
    "在元组内对元素排序， 这些元素所携带的信息就会丢失， 因为这些信息\n",
    "是跟它们的位置有关的。"
   ]
  },
  {
   "cell_type": "code",
   "execution_count": 6,
   "metadata": {},
   "outputs": [],
   "source": [
    "lax_coordinates = (33.9425, -118.408056)\n",
    "city, year, pop, chg, area = ('Tokyo', 2003, 32450, 0.66, 8014)\n",
    "traveler_ids = [('USA', '31195855'), ('BRA', 'CE342567'),('ESP', 'XDA205856')]"
   ]
  },
  {
   "cell_type": "code",
   "execution_count": 9,
   "metadata": {},
   "outputs": [
    {
     "name": "stdout",
     "output_type": "stream",
     "text": [
      "BRA/CE342567\n",
      "ESP/XDA205856\n",
      "USA/31195855\n"
     ]
    }
   ],
   "source": [
    "for passport in sorted(traveler_ids):\n",
    "    print('%s/%s' % passport)"
   ]
  },
  {
   "cell_type": "markdown",
   "metadata": {},
   "source": [
    "展示了如何用具名元组来记录一个城市的信息。"
   ]
  },
  {
   "cell_type": "code",
   "execution_count": 10,
   "metadata": {},
   "outputs": [
    {
     "data": {
      "text/plain": [
       "City(name='Tokyo', country='JP', population=36.933, coordinates=(35.689722, 139.691667))"
      ]
     },
     "execution_count": 10,
     "metadata": {},
     "output_type": "execute_result"
    }
   ],
   "source": [
    "from collections import namedtuple\n",
    "City = namedtuple('City', 'name country population coordinates')\n",
    "tokyo = City('Tokyo', 'JP', 36.933, (35.689722, 139.691667))\n",
    "tokyo"
   ]
  },
  {
   "cell_type": "markdown",
   "metadata": {},
   "source": [
    "除了从普通元组那里继承来的属性之外， 具名元组还有一些自己专有的\n",
    "属性。 示例 2-10 中就展示了几个最有用的： _fields 类属性、 类方法\n",
    "_make(iterable) 和实例方法 _asdict()。"
   ]
  },
  {
   "cell_type": "code",
   "execution_count": 11,
   "metadata": {},
   "outputs": [
    {
     "data": {
      "text/plain": [
       "('name', 'country', 'population', 'coordinates')"
      ]
     },
     "execution_count": 11,
     "metadata": {},
     "output_type": "execute_result"
    }
   ],
   "source": [
    "City._fields"
   ]
  },
  {
   "cell_type": "code",
   "execution_count": 12,
   "metadata": {},
   "outputs": [],
   "source": [
    "LatLong = namedtuple('LatLong', 'lat long')"
   ]
  },
  {
   "cell_type": "code",
   "execution_count": 13,
   "metadata": {},
   "outputs": [],
   "source": [
    "delhi_data = ('Delhi NCR', 'IN', 21.935, LatLong(28.613889, 77.208889))"
   ]
  },
  {
   "cell_type": "code",
   "execution_count": 14,
   "metadata": {},
   "outputs": [],
   "source": [
    "delhi = City._make(delhi_data)"
   ]
  },
  {
   "cell_type": "code",
   "execution_count": 15,
   "metadata": {},
   "outputs": [
    {
     "data": {
      "text/plain": [
       "OrderedDict([('name', 'Delhi NCR'),\n",
       "             ('country', 'IN'),\n",
       "             ('population', 21.935),\n",
       "             ('coordinates', LatLong(lat=28.613889, long=77.208889))])"
      ]
     },
     "execution_count": 15,
     "metadata": {},
     "output_type": "execute_result"
    }
   ],
   "source": [
    "delhi._asdict()"
   ]
  },
  {
   "cell_type": "markdown",
   "metadata": {},
   "source": [
    "### 切片"
   ]
  },
  {
   "cell_type": "markdown",
   "metadata": {},
   "source": [
    "在 Python 里， 像列表（list） 、 元组（tuple） 和字符串（str） 这类\n",
    "序列类型都支持切片操作， 但是实际上切片操作比人们所想象的要强大\n",
    "很多。"
   ]
  },
  {
   "cell_type": "code",
   "execution_count": null,
   "metadata": {},
   "outputs": [],
   "source": []
  }
 ],
 "metadata": {
  "kernelspec": {
   "display_name": "Python 3",
   "language": "python",
   "name": "python3"
  },
  "language_info": {
   "codemirror_mode": {
    "name": "ipython",
    "version": 3
   },
   "file_extension": ".py",
   "mimetype": "text/x-python",
   "name": "python",
   "nbconvert_exporter": "python",
   "pygments_lexer": "ipython3",
   "version": "3.6.4"
  }
 },
 "nbformat": 4,
 "nbformat_minor": 2
}
